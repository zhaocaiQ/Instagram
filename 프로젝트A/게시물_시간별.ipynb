{
 "cells": [
  {
   "cell_type": "code",
   "execution_count": 1,
   "id": "14964dc9",
   "metadata": {},
   "outputs": [
    {
     "name": "stdout",
     "output_type": "stream",
     "text": [
      "Requirement already satisfied: tqdm in c:\\programdata\\anaconda3\\lib\\site-packages (4.59.0)\n"
     ]
    },
    {
     "name": "stderr",
     "output_type": "stream",
     "text": [
      "WARNING: You are using pip version 21.3; however, version 21.3.1 is available.\n",
      "You should consider upgrading via the 'C:\\ProgramData\\Anaconda3\\python.exe -m pip install --upgrade pip' command.\n"
     ]
    }
   ],
   "source": [
    "!pip install tqdm"
   ]
  },
  {
   "cell_type": "code",
   "execution_count": 2,
   "id": "f04d7274",
   "metadata": {},
   "outputs": [],
   "source": [
    "import json\n",
    "from tqdm import tqdm\n",
    "#Load in cookie\n",
    "gate = json.load(open('2.JSON자료\\혜화역출구전체_.json', 'rb'))\n",
    "#날짜 데이터 불러오기\n",
    "dates = gate[\"date\"]\n",
    "\n",
    "# 시간만 가져오기\n",
    "hour_l = []\n",
    "for i in range(len(dates)):\n",
    "    hour_l.append(dates[i][-8:-6])"
   ]
  },
  {
   "cell_type": "code",
   "execution_count": 3,
   "id": "f0d14932",
   "metadata": {},
   "outputs": [
    {
     "name": "stdout",
     "output_type": "stream",
     "text": [
      "Counter({'13': 549, '08': 523, '10': 521, '11': 487, '09': 484, '14': 476, '12': 450, '05': 411, '03': 405, '06': 397, '04': 397, '07': 374, '15': 358, '02': 261, '01': 240, '16': 225, '23': 207, '00': 206, '17': 119, '18': 75, '22': 72, '21': 70, '19': 47, '20': 32})\n"
     ]
    }
   ],
   "source": [
    "from collections import Counter\n",
    "#시간별 카운팅\n",
    "\n",
    "count_hours = Counter(hour_l)\n",
    "print(count_hours)"
   ]
  },
  {
   "cell_type": "code",
   "execution_count": 4,
   "id": "0e2ecbb3",
   "metadata": {},
   "outputs": [
    {
     "name": "stdout",
     "output_type": "stream",
     "text": [
      "0\n",
      "2\n",
      "4\n",
      "6\n",
      "8\n",
      "10\n",
      "12\n",
      "14\n",
      "16\n",
      "18\n",
      "20\n",
      "22\n",
      "{'0-1': 206, '2-3': 261, '4-5': 397, '6-7': 397, '8-9': 523, '10-11': 521, '12-13': 450, '14-15': 476, '16-17': 225, '18-19': 75, '20-21': 32, '22-23': 72}\n"
     ]
    }
   ],
   "source": [
    "# 2시간 주기\n",
    "hours = count_hours.keys()\n",
    "count_2hour = {}\n",
    "for i in range(0, 23, 2):\n",
    "    print(i)\n",
    "    total = []\n",
    "    if i < 10:\n",
    "        hour = count_hours[\"0{}\" .format(i)]\n",
    "        total.append(hour)\n",
    "    else:\n",
    "        hour = count_hours[\"{}\" .format(i)]\n",
    "        total.append(hour)\n",
    "    \n",
    "    count_2hour[\"{}-{}\" .format(i, i+1)] = sum(total)\n",
    "                                \n",
    "print(count_2hour)"
   ]
  },
  {
   "cell_type": "code",
   "execution_count": 11,
   "id": "7555b02d",
   "metadata": {},
   "outputs": [
    {
     "name": "stdout",
     "output_type": "stream",
     "text": [
      "{'0-6': 62, '6-12': 144, '12-18': 124, '18-24': 25}\n"
     ]
    }
   ],
   "source": [
    "# 6시간 주기\n",
    "hours = count_hours.keys()\n",
    "count_6hour = {}\n",
    "for i in range(0, 23, 6):\n",
    "    total = []\n",
    "    if i < 10:\n",
    "        hour = count_hours[\"0{}\" .format(i)]\n",
    "        total.append(hour)\n",
    "    else:\n",
    "        hour = count_hours[\"{}\" .format(i)]\n",
    "        total.append(hour)\n",
    "    \n",
    "    count_6hour[\"{}-{}\" .format(i, i+6)] = sum(total)\n",
    "    \n",
    "print(count_6hour)"
   ]
  },
  {
   "cell_type": "code",
   "execution_count": 17,
   "id": "73069c63",
   "metadata": {},
   "outputs": [
    {
     "name": "stdout",
     "output_type": "stream",
     "text": [
      "{'0-6': 62, '6-12': 144, '12-18': 124, '18-24': 25}\n"
     ]
    }
   ],
   "source": [
    "# 4시간 주기\n",
    "hours = count_hours.keys()\n",
    "count_4hour = {}\n",
    "for i in range(0, 23, 4):\n",
    "    total = []\n",
    "    if i < 10:\n",
    "        hour = count_hours[\"0{}\" .format(i)]\n",
    "        total.append(hour)\n",
    "    else:\n",
    "        hour = count_hours[\"{}\" .format(i)]\n",
    "        total.append(hour)\n",
    "    \n",
    "    count_4hour[\"{}-{}\" .format(i, i+4)] = sum(total)\n",
    "    \n",
    "print(count_6hour)"
   ]
  },
  {
   "cell_type": "code",
   "execution_count": 12,
   "id": "944fd890",
   "metadata": {},
   "outputs": [],
   "source": [
    "#한글 폰트 설정\n",
    "import matplotlib\n",
    "from matplotlib import font_manager, rc\n",
    "font_name = font_manager.FontProperties(fname=\"1.font\\malgunbd.ttf\").get_name()\n",
    "matplotlib.rc('font', family=font_name)"
   ]
  },
  {
   "cell_type": "code",
   "execution_count": 13,
   "id": "d91d2cdf",
   "metadata": {},
   "outputs": [
    {
     "data": {
      "image/png": "[encoded data removed]",
      "text/plain": [
       "<Figure size 720x360 with 1 Axes>"
      ]
     },
     "metadata": {
      "needs_background": "light"
     },
     "output_type": "display_data"
    }
   ],
   "source": [
    "import matplotlib.pyplot as plt\n",
    "#년 게시물 빈도수 그래프 그리기\n",
    "#그래프 사이즈 지정\n",
    "plt.figure(figsize=(10, 5))\n",
    "#x,y축 네이밍\n",
    "plt.xlabel('TIME')\n",
    "# plt.ylabel('CONTENTS')\n",
    "\n",
    "# x,y축 데이터\n",
    "x_label = count_2hour.keys()\n",
    "y_label = count_2hour.values()\n",
    "\n",
    "plt.bar(x_label, y_label, color='darkviolet', width=0.7, label='CONTENTS')\n",
    "\n",
    "plt.gca().spines['right'].set_visible(False) #오른쪽 테두리 제거\n",
    "plt.gca().spines['top'].set_visible(False) #위 테두리 제거\n",
    "plt.gca().spines['left'].set_visible(False) #왼쪽 테두리 제거\n",
    "plt.tick_params(axis='x', direction='in', length=3, pad=6, labelsize=14, labelcolor='black')\n",
    "plt.tick_params(axis='y', color='white')\n",
    "plt.legend(fontsize = 10)\n",
    "plt.savefig(\"시간별 게시글.png\", bbox_inches=\"tight\")\n",
    "plt.show()"
   ]
  },
  {
   "cell_type": "code",
   "execution_count": 14,
   "id": "9331b32e",
   "metadata": {},
   "outputs": [
    {
     "data": {
      "image/png": "[encoded data removed]",
      "text/plain": [
       "<Figure size 720x360 with 1 Axes>"
      ]
     },
     "metadata": {
      "needs_background": "light"
     },
     "output_type": "display_data"
    }
   ],
   "source": [
    "import matplotlib.pyplot as plt\n",
    "#년 게시물 빈도수 그래프 그리기\n",
    "#그래프 사이즈 지정\n",
    "plt.figure(figsize=(10, 5))\n",
    "#x,y축 네이밍\n",
    "plt.xlabel('TIME')\n",
    "# plt.ylabel('CONTENTS')\n",
    "\n",
    "# x,y축 데이터\n",
    "x_label = count_6hour.keys()\n",
    "y_label = count_6hour.values()\n",
    "\n",
    "plt.bar(x_label, y_label,color='darkviolet', width=0.7, label='CONTENTS')\n",
    "plt.gca().spines['right'].set_visible(False) #오른쪽 테두리 제거\n",
    "plt.gca().spines['top'].set_visible(False) #위 테두리 제거\n",
    "plt.gca().spines['left'].set_visible(False) #왼쪽 테두리 제거\n",
    "plt.tick_params(axis='x', direction='in', length=3, pad=6, labelsize=14, labelcolor='black')\n",
    "plt.tick_params(axis='y', color='white')\n",
    "plt.legend(fontsize = 10)\n",
    "plt.show()"
   ]
  },
  {
   "cell_type": "code",
   "execution_count": 18,
   "id": "22ef7b4f",
   "metadata": {},
   "outputs": [
    {
     "data": {
      "image/png": "[encoded data removed]",
      "text/plain": [
       "<Figure size 720x360 with 1 Axes>"
      ]
     },
     "metadata": {
      "needs_background": "light"
     },
     "output_type": "display_data"
    }
   ],
   "source": [
    "import matplotlib.pyplot as plt\n",
    "#년 게시물 빈도수 그래프 그리기\n",
    "#그래프 사이즈 지정\n",
    "plt.figure(figsize=(10, 5))\n",
    "#x,y축 네이밍\n",
    "plt.xlabel('TIME')\n",
    "plt.ylabel('CONTENTS')\n",
    "\n",
    "# x,y축 데이터\n",
    "x_label = count_4hour.keys()\n",
    "y_label = count_4hour.values()\n",
    "\n",
    "plt.bar(x_label, y_label,color='darkviolet', width=0.7, label='CONTENTS')\n",
    "plt.gca().spines['right'].set_visible(False) #오른쪽 테두리 제거\n",
    "plt.gca().spines['top'].set_visible(False) #위 테두리 제거\n",
    "plt.gca().spines['left'].set_visible(False) #왼쪽 테두리 제거\n",
    "plt.tick_params(axis='x', direction='in', length=3, pad=6, labelsize=14, labelcolor='black')\n",
    "plt.tick_params(axis='y', color='white')\n",
    "plt.legend(fontsize = 10)\n",
    "plt.show()"
   ]
  },
  {
   "cell_type": "code",
   "execution_count": null,
   "id": "682319c3",
   "metadata": {},
   "outputs": [],
   "source": []
  }
 ],
 "metadata": {
  "kernelspec": {
   "display_name": "Python 3",
   "language": "python",
   "name": "python3"
  },
  "language_info": {
   "codemirror_mode": {
    "name": "ipython",
    "version": 3
   },
   "file_extension": ".py",
   "mimetype": "text/x-python",
   "name": "python",
   "nbconvert_exporter": "python",
   "pygments_lexer": "ipython3",
   "version": "3.8.8"
  }
 },
 "nbformat": 4,
 "nbformat_minor": 5
}
