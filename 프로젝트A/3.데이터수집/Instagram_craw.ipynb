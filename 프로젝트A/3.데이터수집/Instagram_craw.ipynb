{
 "cells": [
  {
   "cell_type": "markdown",
   "id": "4229a6ef",
   "metadata": {},
   "source": [
    "### 필요설치 모듈"
   ]
  },
  {
   "cell_type": "code",
   "execution_count": null,
   "id": "62494d45",
   "metadata": {},
   "outputs": [],
   "source": [
    "!pip install fake_useragent"
   ]
  },
  {
   "cell_type": "markdown",
   "id": "454f4d4e",
   "metadata": {},
   "source": [
    "## 인스타그램 데이터수집"
   ]
  },
  {
   "cell_type": "code",
   "execution_count": 1,
   "id": "3f74533a",
   "metadata": {
    "scrolled": true
   },
   "outputs": [
    {
     "name": "stderr",
     "output_type": "stream",
     "text": [
      "<ipython-input-1-a919047f292b>:39: DeprecationWarning: use options instead of chrome_options\n",
      "  self.driver = webdriver.Chrome(executable_path=path, chrome_options=options)\n"
     ]
    },
    {
     "name": "stdout",
     "output_type": "stream",
     "text": [
      "검색어 입력 > 혜화역 2번 출구\n",
      "혜화역2번출구\n",
      "게시글: 1\n",
      "hi___soso\n",
      "부부식당\n",
      "['- 사장님이 재차 물어보셔... 양이 많은데 괜찮으시냐구 \\U0001f972 나는 어딜 가나 이 소릴 듣지,, 왜야,,, 여자 둘이 메인요리 4개 시키는 게 왜머왜... . . . 부부식당 지인들한테 많이 추천했눈데 전부 다 엄지척 했더랬지 희희 🙆🏻\\u200d♀️ 근데 지쨔 소소한 반찬 하나까지 다 맛있다']\n",
      "['#혜화맛집']\n",
      "좋아요 52개\n",
      "2021-02-03T13:11:04\n",
      "https://scontent-ssn1-1.cdninstagram.com/v/t51.2885-15/e35/s1080x1080/145025196_111965900872236_6337895152161653633_n.jpg?_nc_ht=scontent-ssn1-1.cdninstagram.com&_nc_cat=100&_nc_ohc=GUjORJTu_AsAX_oW8N9&edm=AP_V10EBAAAA&ccb=7-4&oh=ab2e5343de3eccc69188a697bd3165ed&oe=6185FA79&_nc_sid=4f375e\n",
      "게시글: 2\n",
      "eva__ham\n",
      "장소정보가 없습니다.\n",
      "['여성을 죽이는 범죄, 여성이기 때문에 겪는 일로 죽게 되는 범죄까지 페미사이드라고 한다. 메세지는 간단하다. 페미사이드 그만하자는 것이다. 심플! 모두 같은 생각 아닌가요? _ 여성들이 왜 스스로 자살을 선택하게 될까? 멘탈이 약해서? 아니다. _ 나를 보호할 제도와 법이 없고 사회적 분위기마저 그렇기 때문이다. 가까운 사람으로부터의 데이트폭력, 가정폭력, 강간, 각종 성희롱, 성취행에 속하는 성범죄, 불법촬영 등 디지털성범죄, 스토킹, 여성혐오, 여성성적대상화, 가스라이팅, 사이버불링, 사진 지인능욕 등 결국 그냥 모두 혼자서 감당해야 한다는 것을 알게 되면서 무기력함이 오고 우울증이오고 결국엔 그 굴레를 끊어버리는 것으로 자살말고는 선택할게 없기 때문에 선택한다. 그것이 과연 선택일까? 우리 사회는 책임이 없을까? 이대로 베르테르 효과 취급하고 조용하면 될까? 정말 여성들이 무엇이든 안전하고 자유롭게 무엇이든 할 수 있는 환경일까? 현실이 이러니까 조심이야 해야겠지만 조심만 해서 될까? 얼마나 더 조심해야할까? 그래서 그거 하지말라고 여성 대상으로 범죄 그만하라고 모이는 날이다. _ 나 역시 여러번의 구체적인 자살을 생각했었고 단지 여러가지로 운이 좋아서 살았다. 살고 싶어서 자살을 선택하는 아이러니를 나는 안다. 나는 그럼 삶의 의지가 없고 부족한 약한 타입일까? 이건 지인들이 더 잘 알거라 믿는다. _ 여성 상대 살인, 강간, 폭력 역시 뉴스, 영화, 드라마, 소설, 뮤지컬 그냥 픽션, 논픽션 할 것 없이 마구 쏟아지는 흥미로운 이슈꺼리 콘텐츠가 되어버렸다. 그렇게 사람들은 무뎌졌다. 하지만 이제 여성 피해자를 만들지말고 보호해야한다고 말해야한다. _']\n",
      "['#여성대상범죄그만합시다', '#여자그만죽입시다', '#페미사이드철폐시위', '#혜화역', '#여성대상범죄', '#femicides', '#femicide', '#페미사이드', '#페미사이드철폐', '#마로니에공원', '#혜화역2번출구', '#stopfeminicides', '#stopfemicide', '#혜화역시위']\n",
      "좋아요 123개\n",
      "2019-12-28T05:38:25\n",
      "https://scontent-ssn1-1.cdninstagram.com/v/t51.2885-15/e35/s1080x1080/81152591_2373474952963305_7722438612312477742_n.jpg?_nc_ht=scontent-ssn1-1.cdninstagram.com&_nc_cat=109&_nc_ohc=Nd22TADYczgAX-5AXIf&edm=AP_V10EBAAAA&ccb=7-4&oh=4612258b12ec0196f0c818e4e13f6f94&oe=6186FBBE&_nc_sid=4f375e\n",
      "크롤링할 데이터가 없습니다.\n"
     ]
    }
   ],
   "source": [
    "#필요한 라이브러리\n",
    "import pandas as pd\n",
    "from fake_useragent import UserAgent #봇이 아닌 유저라는 걸 알려주기위한 가짜유저만듦\n",
    "from selenium import webdriver #webdriver로 Chrome홈페이지 연결\n",
    "from selenium.webdriver.chrome.options import Options #WebDriver를 Browser 없이 실행하기 위한 모듈\n",
    "from selenium.webdriver.common.by import By #By로 html속성 '값'으로 요소찾음\n",
    "from selenium.webdriver.support import expected_conditions as EC #특정 html코드가 존재하는지 여부체크\n",
    "from selenium.webdriver.support.ui import WebDriverWait #EC가 뜰때까지 기다림\n",
    "from selenium.common.exceptions import NoSuchElementException\n",
    "from selenium.common.exceptions import TimeoutException #EC에서 설정한 시간이 지나면 뜨는 에러 exception처리\n",
    "import json\n",
    "import time\n",
    "import urllib.request #이미지 저장\n",
    "from selenium.webdriver.common.keys import Keys #스크롤다운\n",
    "from bs4 import BeautifulSoup\n",
    "import Insta_Craw #인스타 크롤링 모듈\n",
    "import os\n",
    "\n",
    "\n",
    "class IG_Bot:\n",
    "    \"\"\"Creating a Bot\"\"\"\n",
    "    def __init__(self, username, password):\n",
    "        #randomized User ID\n",
    "        ua = UserAgent()\n",
    "        user_agent = ua.random\n",
    "        options = Options()\n",
    "        #\"--headless\" => WebDriver를 Browser 없이 실행하는 옵션.\n",
    "        #chrome_option,add_argument(\"--headless\")\n",
    "        #리눅스 서버와 같이 GUI를 제공하지 않는 환경일 시 아래 두코드 필요.\n",
    "        options.add_argument(\"--no-sandbox\")\n",
    "        options.add_argument(\"--disable_gpu\") #gou 끄기\n",
    "        options.add_argument(f\"user_agent={user_agent}\") # useragent값\n",
    "        cwd=os.getcwd()\n",
    "        path=cwd+'\\chromedriver_win32\\chromedriver.exe'\n",
    "        cookies_file_path = 'cookies.json'\n",
    "        cookie_websites = ['https://Instagram.com']\n",
    "        self.cookies_file_path = cookies_file_path\n",
    "        self.cookie_websites = cookie_websites\n",
    "        self.driver = webdriver.Chrome(executable_path=path, chrome_options=options)\n",
    "        self.driver.get('https://Instagram.com')\n",
    "        time.sleep(2)\n",
    "        #save_cookie가 되어있을 때\n",
    "        try:\n",
    "            #Load in cookies for the website\n",
    "            cookies = json.load(open(self.cookies_file_path, 'rb'))\n",
    "            for website in self.cookie_websites:\n",
    "                for cookie in cookies:\n",
    "                    self.driver.add_cookie(cookie)\n",
    "                self.driver.refresh()\n",
    "        except Exception as e:\n",
    "            print(str(e))\n",
    "            print(\"Error Loading in Cookies\")\n",
    "            \n",
    "    \n",
    "    #쿠키 저장함수\n",
    "    def save_cookie(self):\n",
    "        \"\"\"Save Cookie\"\"\"\n",
    "        json.dump(self.driver.get_cookies(), open(\"cookies.json\", 'w'))\n",
    "    \n",
    "    #쿠키 불러오는 함수\n",
    "    def load_cookie(self):\n",
    "        \"\"\"Load Cookie into browser\"\"\"\n",
    "        cookies = json.load(open('cookies.json', 'rd'))\n",
    "        for cookie in cookies:\n",
    "            self.driver.add_cookie(cookie)\n",
    "    \n",
    "    #로그인 함수\n",
    "    def login(self):\n",
    "        \"\"\"Login to Instagram\"\"\"\n",
    "        try:\n",
    "            #저장 쿠기 없을 시\n",
    "            self.username = username\n",
    "            self.password = password\n",
    "            WebDriverWait(self.driver, 5).until(EC.presence_of_element_located((By.XPATH, '//*[@id=\"loginForm\"]/div/div[1]/div/label/input')))\n",
    "            self.driver.find_element_by_xpath('//*[@id=\"loginForm\"]/div/div[1]/div/label/input').send_keys(username)\n",
    "            time.sleep(1)\n",
    "            self.driver.find_element_by_xpath('//*[@id=\"loginForm\"]/div/div[2]/div/label/input').send_keys(password)\n",
    "            time.sleep(1)\n",
    "            self.driver.find_element_by_xpath('//*[@id=\"loginForm\"]/div/div[3]/button/div').click()\n",
    "            try:\n",
    "                WebDriverWait(self.driver, 3).until(EC.presence_of_element_located((By.XPATH, '//*[@id=\"react-root\"]/section/main/div/div/div/div/button')))\n",
    "            except TimeoutException:\n",
    "                pass\n",
    "            else:\n",
    "                self.driver.find_element_by_xpath('//*[@id=\"react-root\"]/section/main/div/div/div/div/button').click()\n",
    "            try:\n",
    "                WebDriverWait(self.driver, 3).until(EC.presence_of_element_located((By.XPATH, '/html/body/div[5]/div/div/div/div[3]/button[2]')))\n",
    "            except TimeoutException:\n",
    "                pass\n",
    "            else:\n",
    "                self.driver.find_element_by_xpath('/html/body/div[5]/div/div/div/div[3]/button[2]').click()\n",
    "        except:\n",
    "            #저장 쿠기 있을 시\n",
    "            try:\n",
    "                WebDriverWait(self.driver, 3).until(EC.presence_of_element_located((By.XPATH, '/html/body/div[5]/div/div/div/div[3]/button[2]')))\n",
    "            except TimeoutException:\n",
    "                pass\n",
    "            else:\n",
    "                self.driver.find_element_by_xpath('/html/body/div[5]/div/div/div/div[3]/button[2]').click()\n",
    "    def run(self):\n",
    "        Insta_Craw.ig_run(self.driver)\n",
    "\n",
    "if __name__ == '__main__':\n",
    "    \"\"\"Main (runs the classes/functions)\"\"\"\n",
    "    data=pd.read_csv('secret.txt',header=None)\n",
    "    username=data.iloc[0][0]\n",
    "    password=data.iloc[1][0]\n",
    "    \n",
    "    #IG_BOT실행\n",
    "    bot = IG_Bot(username, password)\n",
    "    bot.login()\n",
    "    #cookie 저장하기    bot.save_cookie()\n",
    "    bot.run()"
   ]
  },
  {
   "cell_type": "markdown",
   "id": "60c8d63e",
   "metadata": {},
   "source": [
    "## 저장된 json파일 불러오기"
   ]
  },
  {
   "cell_type": "code",
   "execution_count": 2,
   "id": "de81fef9",
   "metadata": {},
   "outputs": [
    {
     "name": "stdout",
     "output_type": "stream",
     "text": [
      "{'id': ['hi___soso', 'eva__ham'], 'location': ['부부식당', 'None'], 'date': ['2021-02-03T13:11:04', '2019-12-28T05:38:25'], 'like': ['좋아요 52개', '좋아요 123개'], 'text': [['- 사장님이 재차 물어보셔... 양이 많은데 괜찮으시냐구 \\U0001f972 나는 어딜 가나 이 소릴 듣지,, 왜야,,, 여자 둘이 메인요리 4개 시키는 게 왜머왜... . . . 부부식당 지인들한테 많이 추천했눈데 전부 다 엄지척 했더랬지 희희 🙆🏻\\u200d♀️ 근데 지쨔 소소한 반찬 하나까지 다 맛있다'], ['여성을 죽이는 범죄, 여성이기 때문에 겪는 일로 죽게 되는 범죄까지 페미사이드라고 한다. 메세지는 간단하다. 페미사이드 그만하자는 것이다. 심플! 모두 같은 생각 아닌가요? _ 여성들이 왜 스스로 자살을 선택하게 될까? 멘탈이 약해서? 아니다. _ 나를 보호할 제도와 법이 없고 사회적 분위기마저 그렇기 때문이다. 가까운 사람으로부터의 데이트폭력, 가정폭력, 강간, 각종 성희롱, 성취행에 속하는 성범죄, 불법촬영 등 디지털성범죄, 스토킹, 여성혐오, 여성성적대상화, 가스라이팅, 사이버불링, 사진 지인능욕 등 결국 그냥 모두 혼자서 감당해야 한다는 것을 알게 되면서 무기력함이 오고 우울증이오고 결국엔 그 굴레를 끊어버리는 것으로 자살말고는 선택할게 없기 때문에 선택한다. 그것이 과연 선택일까? 우리 사회는 책임이 없을까? 이대로 베르테르 효과 취급하고 조용하면 될까? 정말 여성들이 무엇이든 안전하고 자유롭게 무엇이든 할 수 있는 환경일까? 현실이 이러니까 조심이야 해야겠지만 조심만 해서 될까? 얼마나 더 조심해야할까? 그래서 그거 하지말라고 여성 대상으로 범죄 그만하라고 모이는 날이다. _ 나 역시 여러번의 구체적인 자살을 생각했었고 단지 여러가지로 운이 좋아서 살았다. 살고 싶어서 자살을 선택하는 아이러니를 나는 안다. 나는 그럼 삶의 의지가 없고 부족한 약한 타입일까? 이건 지인들이 더 잘 알거라 믿는다. _ 여성 상대 살인, 강간, 폭력 역시 뉴스, 영화, 드라마, 소설, 뮤지컬 그냥 픽션, 논픽션 할 것 없이 마구 쏟아지는 흥미로운 이슈꺼리 콘텐츠가 되어버렸다. 그렇게 사람들은 무뎌졌다. 하지만 이제 여성 피해자를 만들지말고 보호해야한다고 말해야한다. _']], 'hashtag': [['#혜화맛집'], ['#여성대상범죄그만합시다', '#여자그만죽입시다', '#페미사이드철폐시위', '#혜화역', '#여성대상범죄', '#femicides', '#femicide', '#페미사이드', '#페미사이드철폐', '#마로니에공원', '#혜화역2번출구', '#stopfeminicides', '#stopfemicide', '#혜화역시위']], 'img': ['https://scontent-ssn1-1.cdninstagram.com/v/t51.2885-15/e35/s1080x1080/145025196_111965900872236_6337895152161653633_n.jpg?_nc_ht=scontent-ssn1-1.cdninstagram.com&_nc_cat=100&_nc_ohc=GUjORJTu_AsAX_oW8N9&edm=AP_V10EBAAAA&ccb=7-4&oh=ab2e5343de3eccc69188a697bd3165ed&oe=6185FA79&_nc_sid=4f375e', 'https://scontent-ssn1-1.cdninstagram.com/v/t51.2885-15/e35/s1080x1080/81152591_2373474952963305_7722438612312477742_n.jpg?_nc_ht=scontent-ssn1-1.cdninstagram.com&_nc_cat=109&_nc_ohc=Nd22TADYczgAX-5AXIf&edm=AP_V10EBAAAA&ccb=7-4&oh=4612258b12ec0196f0c818e4e13f6f94&oe=6186FBBE&_nc_sid=4f375e']}\n"
     ]
    }
   ],
   "source": [
    "import json\n",
    "#Load in cookie\n",
    "data = json.load(open('instagram_data.json', 'rb'))\n",
    "print(data)"
   ]
  },
  {
   "cell_type": "code",
   "execution_count": null,
   "id": "cefd8065",
   "metadata": {},
   "outputs": [],
   "source": []
  }
 ],
 "metadata": {
  "kernelspec": {
   "display_name": "Python 3",
   "language": "python",
   "name": "python3"
  },
  "language_info": {
   "codemirror_mode": {
    "name": "ipython",
    "version": 3
   },
   "file_extension": ".py",
   "mimetype": "text/x-python",
   "name": "python",
   "nbconvert_exporter": "python",
   "pygments_lexer": "ipython3",
   "version": "3.8.8"
  }
 },
 "nbformat": 4,
 "nbformat_minor": 5
}
